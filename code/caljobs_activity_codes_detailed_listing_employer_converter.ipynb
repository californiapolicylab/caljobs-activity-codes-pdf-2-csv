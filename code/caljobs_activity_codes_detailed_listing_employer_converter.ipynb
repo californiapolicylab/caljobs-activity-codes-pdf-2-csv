{
 "cells": [
  {
   "cell_type": "code",
   "execution_count": 4,
   "metadata": {},
   "outputs": [],
   "source": [
    "import re\n",
    "import camelot\n",
    "import pickle\n",
    "import pandas as pd\n",
    "\n",
    "pickle_file_path = \"../output/caljobs_activity_codes_detailed_listing_employer_camelot_output.pkl\"\n",
    "\n",
    "tbls = camelot.read_pdf(\"../sourcedata/caljobs_activity_codes_detailed_listing_employer.pdf\", pages=\"1-2\")\n",
    "\n",
    "with open(pickle_file_path, \"wb\") as handle:\n",
    "    pickle.dump(tbls, handle, protocol=pickle.HIGHEST_PROTOCOL)\n"
   ]
  },
  {
   "cell_type": "code",
   "execution_count": 11,
   "metadata": {},
   "outputs": [],
   "source": [
    "with open(pickle_file_path, \"rb\") as handle:\n",
    "    tbls_pkl = pickle.load(handle)\n",
    "\n",
    "activity_code = []\n",
    "reporting_category = []\n",
    "\n",
    "for tbl in tbls_pkl:\n",
    "    df = tbl.df.tail(-1)\n",
    "    activity_code.extend(df[0])\n",
    "    reporting_category.extend(df[2].replace(\"\\n\", \"\", regex=True))\n",
    "\n",
    "caljobs_act_codes_detailed_list_emp = pd.DataFrame({\n",
    "    \"activity_code\": activity_code,\n",
    "    \"reporting_category_employer\":reporting_category\n",
    "})\n",
    "\n",
    "caljobs_act_codes_detailed_list_emp.to_csv(\"../output/caljobs_activity_codes_detailed_listing_employer.csv\")"
   ]
  }
 ],
 "metadata": {
  "kernelspec": {
   "display_name": ".venv",
   "language": "python",
   "name": "python3"
  },
  "language_info": {
   "codemirror_mode": {
    "name": "ipython",
    "version": 3
   },
   "file_extension": ".py",
   "mimetype": "text/x-python",
   "name": "python",
   "nbconvert_exporter": "python",
   "pygments_lexer": "ipython3",
   "version": "3.10.12"
  }
 },
 "nbformat": 4,
 "nbformat_minor": 2
}
