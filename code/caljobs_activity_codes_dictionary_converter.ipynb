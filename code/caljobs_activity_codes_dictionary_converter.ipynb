{
 "cells": [
  {
   "cell_type": "code",
   "execution_count": 1,
   "metadata": {},
   "outputs": [],
   "source": [
    "import re\n",
    "import camelot\n",
    "import pickle\n",
    "import pandas as pd\n",
    "\n",
    "pickle_file_path=\"../output/caljobs_activity_codes_dictionary_camelot_output.pkl\"\n",
    "\n",
    "tbls = camelot.read_pdf(\"../sourcedata/caljobs_activity_codes_dictionary.pdf\", pages=\"2-61\")\n",
    "\n",
    "with open(pickle_file_path, \"wb\") as handle:\n",
    "    pickle.dump(tbls, handle, protocol=pickle.HIGHEST_PROTOCOL)\n"
   ]
  },
  {
   "cell_type": "code",
   "execution_count": 2,
   "metadata": {},
   "outputs": [],
   "source": [
    "with open(pickle_file_path, \"rb\") as handle:\n",
    "    tbls_pkl = pickle.load(handle)\n",
    "\n",
    "activity_code_list = []\n",
    "activity_name_list = []\n",
    "activity_description_list = []\n",
    "\n",
    "for tbl in tbls_pkl:\n",
    "    df = tbl.df.tail(-1)\n",
    "    activity_code_list.extend(df[0].values.tolist())\n",
    "    name_splits = df[1].str.split(\"\\n\")\n",
    "    idx = 0\n",
    "    for name_split in name_splits:\n",
    "        name_split_copy = name_split.copy()\n",
    "        for index, item in enumerate(name_split):\n",
    "            if len(item.strip()) >= 3:\n",
    "                activity_name_list.append(item.strip())\n",
    "                name_split_copy.remove(item)\n",
    "                activity_description_list.append(\" \".join(name_split_copy))\n",
    "                break\n",
    "\n",
    "caljobs_act_code_dictionary = pd.DataFrame({\"activity_code\":activity_code_list, \"activity_name\": activity_name_list, \"activity_description\": activity_description_list})\n",
    "caljobs_act_code_dictionary['activity_description'] = caljobs_act_code_dictionary['activity_description'].str.replace(r\"\\s*\\*\\s+\", \"\", regex=True)\n",
    "missing_140 = caljobs_act_code_dictionary.loc[141,'activity_name'] + \" \" + caljobs_act_code_dictionary.loc[141,'activity_description']\n",
    "caljobs_act_code_dictionary.loc[140,'activity_description'] = missing_140\n",
    "caljobs_act_code_dictionary = caljobs_act_code_dictionary.drop(index = 141, axis=0).reset_index(drop=True)\n",
    "caljobs_act_code_dictionary[\"activity_originator\"] = caljobs_act_code_dictionary[\"activity_code\"].apply(lambda x: \"System\" if x[0].isnumeric() else \"Employer\" if x[0]==\"E\" else \"Follow-up\")\n",
    "\n",
    "caljobs_act_code_dictionary.to_csv(\"../output/caljobs_activity_codes_dictionary.csv\")"
   ]
  }
 ],
 "metadata": {
  "kernelspec": {
   "display_name": ".venv",
   "language": "python",
   "name": "python3"
  },
  "language_info": {
   "codemirror_mode": {
    "name": "ipython",
    "version": 3
   },
   "file_extension": ".py",
   "mimetype": "text/x-python",
   "name": "python",
   "nbconvert_exporter": "python",
   "pygments_lexer": "ipython3",
   "version": "3.10.12"
  }
 },
 "nbformat": 4,
 "nbformat_minor": 2
}
