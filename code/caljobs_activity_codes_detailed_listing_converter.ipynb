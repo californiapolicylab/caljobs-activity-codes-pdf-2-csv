{
 "cells": [
  {
   "cell_type": "code",
   "execution_count": 116,
   "metadata": {},
   "outputs": [],
   "source": [
    "import re\n",
    "import camelot\n",
    "import pickle\n",
    "import pandas as pd\n",
    "\n",
    "pickle_file_path = \"../output/caljobs_activity_codes_detailed_listing_camelot_output.pkl\"\n",
    "\n",
    "tbls = camelot.read_pdf(\"../sourcedata/caljobs_activity_codes_detailed_listing.pdf\", pages=\"1-9\")\n",
    "\n",
    "with open(pickle_file_path, \"wb\") as handle:\n",
    "    pickle.dump(tbls, handle, protocol=pickle.HIGHEST_PROTOCOL)\n"
   ]
  },
  {
   "cell_type": "code",
   "execution_count": 118,
   "metadata": {},
   "outputs": [],
   "source": [
    "with open(pickle_file_path, \"rb\") as handle:\n",
    "    tbls_pkl = pickle.load(handle)\n",
    "\n",
    "activity_code = []\n",
    "programs_list = []\n",
    "reporting_category = []\n",
    "restarts_exit_clock = []\n",
    "pirl = []\n",
    "duration = []\n",
    "\n",
    "for tbl in tbls_pkl:\n",
    "    df = tbl.df.tail(-2)\n",
    "    activity_code.extend(df[0])\n",
    "    programs_list.append(df[list(range(2,8))].apply(lambda x: x.str.strip().replace(\"\", \"0\").replace(\"x\", \"1\")))\n",
    "    reporting_category.extend(df[8].replace(\"\\n\", \"\", regex=True))\n",
    "    restarts_exit_clock.extend(df[9].str.strip().replace(\"NO\", \"0\").replace(\"YES\", \"1\"))\n",
    "    pirl.extend(df[10].replace(\"\\n\", \"\", regex=True))\n",
    "    duration.extend(df[11].str.strip())\n",
    "\n",
    "programs_df = pd.concat(programs_list, ignore_index=True)\n",
    "programs_df.columns = [\"prog_affiliation_adult_dw\",\n",
    "           \"prog_affiliation_youth\",\n",
    "           \"prog_affiliation_nfjp\",\n",
    "           \"prog_affiliation_wp_jvsg\",\n",
    "           \"prog_affiliation_msfw\",\n",
    "           \"prog_affiliation_taa\"]\n",
    "\n",
    "caljobs_act_codes_detailed_list = pd.concat([\n",
    "    pd.Series(activity_code).rename(\"activity_code\"),\n",
    "    programs_df,\n",
    "    pd.Series(reporting_category).rename(\"reporting_category\"),\n",
    "    pd.Series(restarts_exit_clock).rename(\"restarts_exit_clock\"),\n",
    "    pd.Series(pirl).rename(\"pirl\"),\n",
    "    pd.Series(duration).rename(\"duration\")\n",
    "], axis=1)\n",
    "\n",
    "caljobs_act_codes_detailed_list.loc[4,\"activity_code\"] = \"06M\"\n",
    "\n",
    "caljobs_act_codes_detailed_list.to_csv(\"../output/caljobs_activity_codes_detailed_listing.csv\")"
   ]
  }
 ],
 "metadata": {
  "kernelspec": {
   "display_name": ".venv",
   "language": "python",
   "name": "python3"
  },
  "language_info": {
   "codemirror_mode": {
    "name": "ipython",
    "version": 3
   },
   "file_extension": ".py",
   "mimetype": "text/x-python",
   "name": "python",
   "nbconvert_exporter": "python",
   "pygments_lexer": "ipython3",
   "version": "3.10.12"
  }
 },
 "nbformat": 4,
 "nbformat_minor": 2
}
