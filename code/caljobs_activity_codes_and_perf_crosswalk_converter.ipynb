{
 "cells": [
  {
   "cell_type": "code",
   "execution_count": 1,
   "metadata": {},
   "outputs": [],
   "source": [
    "import re\n",
    "import camelot\n",
    "import pickle\n",
    "import pandas as pd\n",
    "\n",
    "pickle_file_path = \"../output/caljobs_activity_codes_and_perf_crosswalk_camelot_output.pkl\"\n",
    "\n",
    "tbls = camelot.read_pdf(\"../sourcedata/caljobs_activity_codes_and_perf_crosswalk.pdf\", pages=\"1-3\")\n",
    "\n",
    "with open(pickle_file_path, \"wb\") as handle:\n",
    "    pickle.dump(tbls, handle, protocol=pickle.HIGHEST_PROTOCOL)\n"
   ]
  },
  {
   "cell_type": "code",
   "execution_count": 8,
   "metadata": {},
   "outputs": [],
   "source": [
    "with open(pickle_file_path, \"rb\") as handle:\n",
    "    tbls_pkl = pickle.load(handle)\n",
    "\n",
    "activity_code = []\n",
    "credential_attainment = []\n",
    "measurable_skill_gains = []\n",
    "\n",
    "for tbl in tbls_pkl:\n",
    "    df = tbl.df.tail(-2)\n",
    "    activity_code.extend(df[0])\n",
    "    credential_attainment.extend(df[6].str.replace(\"x\", \"1\").replace(\"\", \"0\"))\n",
    "    measurable_skill_gains.extend(df[7].replace(\"x\", \"1\").replace(\"\", \"0\"))\n",
    "\n",
    "caljobs_act_codes_perf_crosswalk = pd.DataFrame({\n",
    "    \"activity_code\": activity_code,\n",
    "    \"credential_attainment\":credential_attainment,\n",
    "    \"measurable_skill_gains\":measurable_skill_gains\n",
    "})\n",
    "\n",
    "caljobs_act_codes_perf_crosswalk.loc[5,\"activity_code\"] = caljobs_act_codes_perf_crosswalk.loc[5,\"activity_code\"][:3]\n",
    "caljobs_act_codes_perf_crosswalk.loc[9,\"activity_code\"] = caljobs_act_codes_perf_crosswalk.loc[9,\"activity_code\"][:3]\n",
    "\n",
    "caljobs_act_codes_perf_crosswalk.to_csv(\"../output/caljobs_activity_codes_and_perf_crosswalk.csv\")"
   ]
  }
 ],
 "metadata": {
  "kernelspec": {
   "display_name": ".venv",
   "language": "python",
   "name": "python3"
  },
  "language_info": {
   "codemirror_mode": {
    "name": "ipython",
    "version": 3
   },
   "file_extension": ".py",
   "mimetype": "text/x-python",
   "name": "python",
   "nbconvert_exporter": "python",
   "pygments_lexer": "ipython3",
   "version": "3.10.12"
  }
 },
 "nbformat": 4,
 "nbformat_minor": 2
}
